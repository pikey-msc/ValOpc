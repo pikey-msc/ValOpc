{
  "nbformat": 4,
  "nbformat_minor": 0,
  "metadata": {
    "colab": {
      "provenance": [],
      "authorship_tag": "ABX9TyN6n/4bXg8ceZRa8QGNaBMw",
      "include_colab_link": true
    },
    "kernelspec": {
      "name": "python3",
      "display_name": "Python 3"
    },
    "language_info": {
      "name": "python"
    }
  },
  "cells": [
    {
      "cell_type": "markdown",
      "metadata": {
        "id": "view-in-github",
        "colab_type": "text"
      },
      "source": [
        "<a href=\"https://colab.research.google.com/github/pikey-msc/ValOpc/blob/main/2024-2/Binomial_y_recursivo.ipynb\" target=\"_parent\"><img src=\"https://colab.research.google.com/assets/colab-badge.svg\" alt=\"Open In Colab\"/></a>"
      ]
    },
    {
      "cell_type": "markdown",
      "source": [
        "Supóngase que se requiere valuar una opción call plain vanilla con los siguientes parámetros:\n",
        "\n",
        "* $T = 2$, $K = 1000$, $S_0$=900, $u = 1$.1, $d = 0$.9 y $r = 0$.01.\n",
        "* Encontrar el valor $V_0$ bajo el método binomial y el recursivo, validar, si en efecto, son iguales.\n",
        "\n",
        "\n",
        "*   Elemento de la lista\n",
        "*   Elemento de la lista\n",
        "\n"
      ],
      "metadata": {
        "id": "PreVjus7C4bQ"
      }
    },
    {
      "cell_type": "markdown",
      "source": [
        "1. Genera una función general que calcule el $\\hat{k}$ y con base en ese calcule la call"
      ],
      "metadata": {
        "id": "w6DlneQeDGsl"
      }
    },
    {
      "cell_type": "markdown",
      "source": [
        "2. Genera una función general que calcule el $\\hat{k}$ y con base en ese calcule la put $K=850$"
      ],
      "metadata": {
        "id": "H8WRzEqzDS8c"
      }
    },
    {
      "cell_type": "markdown",
      "source": [
        "3. Calcula el recursivo para ver si te da lo mismo que 1 y 2."
      ],
      "metadata": {
        "id": "om7l-yh5DYqu"
      }
    }
  ]
}