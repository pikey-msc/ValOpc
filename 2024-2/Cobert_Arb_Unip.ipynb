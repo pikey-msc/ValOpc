{
  "nbformat": 4,
  "nbformat_minor": 0,
  "metadata": {
    "colab": {
      "provenance": [],
      "toc_visible": true,
      "authorship_tag": "ABX9TyOfTG9tMGWCgSHII1dzLT+E",
      "include_colab_link": true
    },
    "kernelspec": {
      "name": "python3",
      "display_name": "Python 3"
    },
    "language_info": {
      "name": "python"
    }
  },
  "cells": [
    {
      "cell_type": "markdown",
      "metadata": {
        "id": "view-in-github",
        "colab_type": "text"
      },
      "source": [
        "<a href=\"https://colab.research.google.com/github/pikey-msc/ValOpc/blob/main/2024-2/Cobert_Arb_Unip.ipynb\" target=\"_parent\"><img src=\"https://colab.research.google.com/assets/colab-badge.svg\" alt=\"Open In Colab\"/></a>"
      ]
    },
    {
      "cell_type": "code",
      "source": [],
      "metadata": {
        "id": "Yl14FLWk9wr5"
      },
      "execution_count": null,
      "outputs": []
    },
    {
      "cell_type": "markdown",
      "source": [
        "# Cobertura Uniperiodo\n",
        "\n",
        "Funciones de cobertura $\\alpha$ y $\\beta$"
      ],
      "metadata": {
        "id": "9PeOll5Y9zfU"
      }
    },
    {
      "cell_type": "code",
      "execution_count": 17,
      "metadata": {
        "id": "y67zIFbKuOXR"
      },
      "outputs": [],
      "source": [
        "import math\n",
        "\n",
        "def calculate_alpha(X_u, X_d, S_u, S_d):\n",
        "    alpha = (X_u - X_d) / (S_u - S_d)\n",
        "    return alpha\n",
        "\n",
        "def calculate_beta(B, X_u, X_d, S_u, S_d):\n",
        "    beta = B * (X_u - (((X_u - X_d) * S_d) / (S_u - S_d)))\n",
        "    return beta"
      ]
    },
    {
      "cell_type": "code",
      "source": [
        "a=calculate_alpha(20,0,120,80)\n",
        "a"
      ],
      "metadata": {
        "colab": {
          "base_uri": "https://localhost:8080/"
        },
        "id": "S5pdv1a3um5Z",
        "outputId": "b0ddf17c-e120-4e84-a015-0274f3005442"
      },
      "execution_count": 4,
      "outputs": [
        {
          "output_type": "execute_result",
          "data": {
            "text/plain": [
              "0.5"
            ]
          },
          "metadata": {},
          "execution_count": 4
        }
      ]
    },
    {
      "cell_type": "code",
      "source": [
        "b=calculate_beta(10/11 ,20,0,120,80)\n",
        "b"
      ],
      "metadata": {
        "colab": {
          "base_uri": "https://localhost:8080/"
        },
        "id": "tzqSZtoeumaD",
        "outputId": "eee05fd8-d75a-4d8b-c27c-e9d43d37be5a"
      },
      "execution_count": 18,
      "outputs": [
        {
          "output_type": "execute_result",
          "data": {
            "text/plain": [
              "-18.18181818181818"
            ]
          },
          "metadata": {},
          "execution_count": 18
        }
      ]
    },
    {
      "cell_type": "code",
      "source": [
        "(20-(20/40)*120)*10/11"
      ],
      "metadata": {
        "colab": {
          "base_uri": "https://localhost:8080/"
        },
        "id": "D23BUp1rxGfa",
        "outputId": "59d417d9-0f25-4dc1-ea31-86efd7bbc9aa"
      },
      "execution_count": 21,
      "outputs": [
        {
          "output_type": "execute_result",
          "data": {
            "text/plain": [
              "-36.36363636363637"
            ]
          },
          "metadata": {},
          "execution_count": 21
        }
      ]
    },
    {
      "cell_type": "markdown",
      "source": [
        "# Binomial Multiperiodo (no multiplicativo - no binomial)"
      ],
      "metadata": {
        "id": "MM_vR8a392In"
      }
    },
    {
      "cell_type": "markdown",
      "source": [
        "## Ejemplo Árbol binomial (No multiplicativo) que recombina valores"
      ],
      "metadata": {
        "id": "XPtRLmYDwQW4"
      }
    },
    {
      "cell_type": "markdown",
      "source": [
        "Insumos"
      ],
      "metadata": {
        "id": "jN1wK0WRyxfj"
      }
    },
    {
      "cell_type": "code",
      "source": [
        "S0 = 100 # @param {type:\"number\"}\n",
        "K = 100 # @param {type:\"number\"}\n",
        "T = 3 # @param {type:\"integer\"}\n"
      ],
      "metadata": {
        "id": "s5lSkOLLweCT"
      },
      "execution_count": null,
      "outputs": []
    },
    {
      "cell_type": "markdown",
      "source": [
        "Vector de precios recombinados, es decir, en cada rama se recombinan los valores"
      ],
      "metadata": {
        "id": "rweRnUyLyzR3"
      }
    },
    {
      "cell_type": "code",
      "source": [
        "S=[100, 80, 120, 60, 100, 140, 40, 80, 120, 160]"
      ],
      "metadata": {
        "id": "HWGuWrL4yNDV"
      },
      "execution_count": null,
      "outputs": []
    },
    {
      "cell_type": "code",
      "source": [
        "import matplotlib.pyplot as plt\n",
        "import networkx as nx\n",
        "\n",
        "# Parámetros iniciales\n",
        "\n",
        "# Construir el árbol de precios S\n",
        "levels = {}  # Diccionario para almacenar los nodos por nivel\n",
        "\n",
        "# for t in range(T+1):\n",
        "#     levels[t] = [s for s in range(t,t+1)]\n",
        "levels[0] = [S[0]]\n",
        "levels[1] = S[1:3]\n",
        "levels[2] = S[3:6]\n",
        "levels[3] = S[6:10]\n",
        "\n",
        "# Calcular q_n y X_n para cada nodo\n",
        "X = {}  # Diccionario para almacenar los valores X\n",
        "q = {}  # Diccionario para almacenar los valores q\n",
        "\n",
        "# Inicializar los valores de X en el tiempo T\n",
        "for idx, S_T in enumerate(levels[T]):\n",
        "    X[(T, idx)] = max(S_T - K, 0)\n",
        "\n",
        "# Calcular X para nodos anteriores a T\n",
        "for t in reversed(range(T)):\n",
        "    for idx, S_n in enumerate(levels[t]):\n",
        "        S_u = levels[t+1][idx+1]\n",
        "        S_d = levels[t+1][idx]\n",
        "        q[(t, idx)] = (S_n - S_d) / (S_u - S_d)\n",
        "        X[(t, idx)] = q[(t, idx)] * X[(t+1, idx+1)] + (1 - q[(t, idx)]) * X[(t+1, idx)]\n",
        "\n",
        "# Función para graficar el árbol\n",
        "def plot_tree(levels, X):\n",
        "    G = nx.Graph()\n",
        "    pos = {}\n",
        "    for t in levels:\n",
        "        for idx, S in enumerate(levels[t]):\n",
        "            node_label = (t, idx)\n",
        "            G.add_node(node_label)\n",
        "            pos[node_label] = (2*t, -2*idx + t)\n",
        "            if t > 0:\n",
        "                parent_label = (t-1, idx) if idx < len(levels[t-1]) else (t-1, idx-1)\n",
        "                G.add_edge(parent_label, node_label)\n",
        "\n",
        "    labels = {node: f\"S={S:.0f}\\nX={X[node]:.2f}\" for node, S in zip(pos.keys(), sum(levels.values(), []))}\n",
        "\n",
        "    nx.draw(G, pos, labels=labels, with_labels=True, node_size=2000, node_color='lightblue', font_size=8, arrows=False)\n",
        "    plt.show()\n",
        "\n",
        "plot_tree(levels, X)\n"
      ],
      "metadata": {
        "colab": {
          "base_uri": "https://localhost:8080/",
          "height": 516
        },
        "id": "Nbfha3E2CSeY",
        "outputId": "85a51118-b98b-4f3a-9882-89367babe97e"
      },
      "execution_count": 39,
      "outputs": [
        {
          "output_type": "display_data",
          "data": {
            "text/plain": [
              "<Figure size 640x480 with 1 Axes>"
            ],
            "image/png": "[encoded data removed]"
          },
          "metadata": {}
        }
      ]
    },
    {
      "cell_type": "markdown",
      "source": [
        "##Ejercicio:\n",
        "1. Agrega un proceso de estructura de $S$ que, con base en el total de precios en el vector, calcule lo siguiente: \\\\\n",
        "a) número de ramas, \\\\\n",
        "b) mande mensaje si está completo el árbol con base en las ramas, \\\\\n",
        "c) crea una lista comprehensiva que mapee $S$ a \"levels\" correctamente su posición del árbol, \\\\\n",
        "d) Asigna los valores del árbol en una matriz de $T\\times T$, tal que se cumpla lo siguiente:\n",
        "\\begin{array}{c|cccc}\n",
        "S_d / S_u & 0 & u & uu & uuu \\\\\n",
        "\\hline\n",
        "0 & S_0 & S_u & S_{uu} & S_{uuu} \\\\\n",
        "d & S_d & S_{ud} & S_{udu} & 0 \\\\\n",
        "dd & S_{dd} & S_{ddu} & 0 & 0 \\\\\n",
        "ddd & S_{ddd} & 0 & 0 & 0 \\\\\n",
        "\\end{array}\n",
        "Esto generalizado a varias ramas, es decir, que el árbol se pase a una matriz diagonal.\n",
        "e) Grafica el árbol de $q$\n",
        "d) Grafica el árbol de cobertura $\\alpha$ y $\\beta$\n"
      ],
      "metadata": {
        "id": "Lspk13dHzVOf"
      }
    },
    {
      "cell_type": "markdown",
      "source": [
        "2. Plantea una evolución del precio, tal que el máximo sea 160 y el mínimo 40 para que con $T=100$ hagas una valoración. ¿Cuál es la diferencia con la valoración del ejemplo?"
      ],
      "metadata": {
        "id": "nV9-orCJYsCG"
      }
    },
    {
      "cell_type": "code",
      "source": [],
      "metadata": {
        "id": "H0hWWx5TY9J2"
      },
      "execution_count": null,
      "outputs": []
    },
    {
      "cell_type": "markdown",
      "source": [
        "## Binomial Multiperiodo Multiplicativo"
      ],
      "metadata": {
        "id": "-Hnh3D9_WkAW"
      }
    },
    {
      "cell_type": "markdown",
      "source": [
        "Ejemplo:"
      ],
      "metadata": {
        "id": "OtU4S0_uWqPO"
      }
    },
    {
      "cell_type": "code",
      "source": [
        "import matplotlib.pyplot as plt\n",
        "import networkx as nx\n",
        "\n",
        "# Parámetros iniciales\n",
        "S0 = 100  # Precio inicial\n",
        "K = 100   # Precio de ejercicio\n",
        "T = 4     # Periodos\n",
        "u = 1.2   # Factor de subida\n",
        "d = 0.8   # Factor de bajada\n",
        "\n",
        "# Construir el árbol de precios S\n",
        "levels = {}  # Diccionario para almacenar los nodos por nivel\n",
        "for t in range(T+1):\n",
        "    levels[t] = [S0 * (u ** ups) * (d ** (t - ups)) for ups in range(t + 1)]\n",
        "\n",
        "# Calcular q_n y X_n para cada nodo\n",
        "X = {}  # Diccionario para almacenar los valores X\n",
        "q = {}  # Diccionario para almacenar los valores q\n",
        "\n",
        "# Inicializar los valores de X en el tiempo T\n",
        "for idx, S_T in enumerate(levels[T]):\n",
        "    X[(T, idx)] = max(S_T - K, 0)\n",
        "\n",
        "# Calcular X para nodos anteriores a T\n",
        "for t in reversed(range(T)):\n",
        "    for idx, S_n in enumerate(levels[t]):\n",
        "        S_u = levels[t+1][idx+1]\n",
        "        S_d = levels[t+1][idx]\n",
        "        q[(t, idx)] = (S_n - S_d) / (S_u - S_d)\n",
        "        X[(t, idx)] = q[(t, idx)] * X[(t+1, idx+1)] + (1 - q[(t, idx)]) * X[(t+1, idx)]\n",
        "\n",
        "# Función para graficar el árbol\n",
        "def plot_tree(levels, X):\n",
        "    G = nx.Graph()\n",
        "    pos = {}\n",
        "    for t in levels:\n",
        "        for idx, S in enumerate(levels[t]):\n",
        "            node_label = (t, idx)\n",
        "            G.add_node(node_label)\n",
        "            pos[node_label] = (2*t, -2*idx + t)\n",
        "            if t > 0:\n",
        "                parent_label = (t-1, idx) if idx < len(levels[t-1]) else (t-1, idx-1)\n",
        "                G.add_edge(parent_label, node_label)\n",
        "\n",
        "    labels = {node: f\"S={S:.0f}\\nX={X[node]:.2f}\" for node, S in zip(pos.keys(), sum(levels.values(), []))}\n",
        "\n",
        "    nx.draw(G, pos, labels=labels, with_labels=True, node_size=2000, node_color='lightblue', font_size=8, arrows=False)\n",
        "    plt.show()\n",
        "\n",
        "plot_tree(levels, X)\n"
      ],
      "metadata": {
        "colab": {
          "base_uri": "https://localhost:8080/",
          "height": 516
        },
        "id": "to4aNaIA95Ds",
        "outputId": "9ccab0eb-ad9b-4481-8a1d-dfeabc4bf82f"
      },
      "execution_count": 37,
      "outputs": [
        {
          "output_type": "display_data",
          "data": {
            "text/plain": [
              "<Figure size 640x480 with 1 Axes>"
            ],
            "image/png": "[encoded data removed]"
          },
          "metadata": {}
        }
      ]
    },
    {
      "cell_type": "markdown",
      "source": [
        "Ejercicio 2.\n",
        "\n",
        "Crea una función donde, con base en los insumos necesarios, calcule la valuación de una opción europea multiplicativa, haz los ajustes necesarios para que con los parámetros se especifique si es call o put.\n"
      ],
      "metadata": {
        "id": "nwJSHx9tvzmv"
      }
    },
    {
      "cell_type": "code",
      "source": [],
      "metadata": {
        "id": "gQZcuadHwKH5"
      },
      "execution_count": null,
      "outputs": []
    },
    {
      "cell_type": "markdown",
      "source": [
        "Ejercicio 3.\n",
        "Considere un activo que no paga dividendos cuyo precio es restringido a un árbol binomial multiplicativo de dos períodos con $u=3$ y $d=1/2$. Supón que $S(0) = 4$ y que $\\exp(r\\delta) = 2$. Considera una put europea con $K=3$.\n",
        "\n",
        "1. Encuentra el valor de la opción trabajando el árbol hacia atrás (Grafícala, tanto en árbol como en tabla) \\\\\n",
        "2. ¿Cuál es el portafolio que replica al tiempo $t = 0$?\n",
        "3. Supón que en el primer periodo de tiempo el subyacente sube a 12. ¿Como debiése ser cambiado el portafolio que replica? (Muéstra todo el árbol de réplica)"
      ],
      "metadata": {
        "id": "nLVno8cawKos"
      }
    },
    {
      "cell_type": "code",
      "source": [],
      "metadata": {
        "id": "KVxeoY5PCIxQ"
      },
      "execution_count": null,
      "outputs": []
    }
  ]
}