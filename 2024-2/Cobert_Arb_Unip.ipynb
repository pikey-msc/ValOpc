{
  "nbformat": 4,
  "nbformat_minor": 0,
  "metadata": {
    "colab": {
      "provenance": [],
      "authorship_tag": "ABX9TyOdgu3Si6xkujq1MzD7z0v+",
      "include_colab_link": true
    },
    "kernelspec": {
      "name": "python3",
      "display_name": "Python 3"
    },
    "language_info": {
      "name": "python"
    }
  },
  "cells": [
    {
      "cell_type": "markdown",
      "metadata": {
        "id": "view-in-github",
        "colab_type": "text"
      },
      "source": [
        "<a href=\"https://colab.research.google.com/github/pikey-msc/ValOpc/blob/main/2024-2/Cobert_Arb_Unip.ipynb\" target=\"_parent\"><img src=\"https://colab.research.google.com/assets/colab-badge.svg\" alt=\"Open In Colab\"/></a>"
      ]
    },
    {
      "cell_type": "code",
      "source": [],
      "metadata": {
        "id": "Yl14FLWk9wr5"
      },
      "execution_count": null,
      "outputs": []
    },
    {
      "cell_type": "markdown",
      "source": [
        "# Cobertura Uniperiodo\n",
        "\n",
        "Funciones de cobertura $\\alpha$ y $\\beta$"
      ],
      "metadata": {
        "id": "9PeOll5Y9zfU"
      }
    },
    {
      "cell_type": "code",
      "execution_count": null,
      "metadata": {
        "id": "y67zIFbKuOXR"
      },
      "outputs": [],
      "source": [
        "import math\n",
        "\n",
        "def calculate_alpha(X_u, X_d, S_u, S_d):\n",
        "    alpha = (X_u - X_d) / (S_u - S_d)\n",
        "    return alpha\n",
        "\n",
        "def calculate_beta(B, X_u, X_d, S_u, S_d):\n",
        "    beta = B * (X_u - (((X_u - X_d) * S_d) / (S_u - S_d)))\n",
        "    return beta"
      ]
    },
    {
      "cell_type": "code",
      "source": [
        "a=calculate_alpha(20,0,120,80)\n",
        "a"
      ],
      "metadata": {
        "colab": {
          "base_uri": "https://localhost:8080/"
        },
        "id": "S5pdv1a3um5Z",
        "outputId": "b0ddf17c-e120-4e84-a015-0274f3005442"
      },
      "execution_count": null,
      "outputs": [
        {
          "output_type": "execute_result",
          "data": {
            "text/plain": [
              "0.5"
            ]
          },
          "metadata": {},
          "execution_count": 4
        }
      ]
    },
    {
      "cell_type": "code",
      "source": [
        "b=calculate_beta(10/11 ,20,0,120,80)\n",
        "b"
      ],
      "metadata": {
        "colab": {
          "base_uri": "https://localhost:8080/"
        },
        "id": "tzqSZtoeumaD",
        "outputId": "eee05fd8-d75a-4d8b-c27c-e9d43d37be5a"
      },
      "execution_count": null,
      "outputs": [
        {
          "output_type": "execute_result",
          "data": {
            "text/plain": [
              "-18.18181818181818"
            ]
          },
          "metadata": {},
          "execution_count": 18
        }
      ]
    },
    {
      "cell_type": "code",
      "source": [
        "(20-(20/40)*120)*10/11"
      ],
      "metadata": {
        "colab": {
          "base_uri": "https://localhost:8080/"
        },
        "id": "D23BUp1rxGfa",
        "outputId": "59d417d9-0f25-4dc1-ea31-86efd7bbc9aa"
      },
      "execution_count": null,
      "outputs": [
        {
          "output_type": "execute_result",
          "data": {
            "text/plain": [
              "-36.36363636363637"
            ]
          },
          "metadata": {},
          "execution_count": 21
        }
      ]
    },
    {
      "cell_type": "markdown",
      "source": [
        "# Binomial Multiperiodo (no multiplicativo - no binomial)"
      ],
      "metadata": {
        "id": "MM_vR8a392In"
      }
    },
    {
      "cell_type": "markdown",
      "source": [
        "## Ejemplo Árbol binomial (No multiplicativo) que recombina valores"
      ],
      "metadata": {
        "id": "XPtRLmYDwQW4"
      }
    },
    {
      "cell_type": "markdown",
      "source": [
        "Insumos"
      ],
      "metadata": {
        "id": "jN1wK0WRyxfj"
      }
    },
    {
      "cell_type": "code",
      "source": [
        "S0 = 100 # @param {type:\"number\"}\n",
        "K = 100 # @param {type:\"number\"}\n",
        "T = 3 # @param {type:\"integer\"}\n",
        "Tasa_interes = 0.06 # @param {type:\"slider\", min:0, max:0.25, step:0.01}\n"
      ],
      "metadata": {
        "id": "s5lSkOLLweCT"
      },
      "execution_count": null,
      "outputs": []
    },
    {
      "cell_type": "markdown",
      "source": [
        "Vector de precios recombinados, es decir, en cada rama se recombinan los valores"
      ],
      "metadata": {
        "id": "rweRnUyLyzR3"
      }
    },
    {
      "cell_type": "code",
      "source": [
        "\n",
        "S=[100, 80, 120, 60, 100, 140, 40, 80, 120, 160]\n",
        "\n",
        "S = list(range(15))  # Asume que S es una lista de 10 elementos\n",
        "levels = {i: S[(i*(i+1))//2 : ((i+1)*(i+2))//2] for i in range(5)}\n",
        "levels"
      ],
      "metadata": {
        "colab": {
          "base_uri": "https://localhost:8080/"
        },
        "id": "HWGuWrL4yNDV",
        "outputId": "2698dead-b065-4ae3-de6e-6e5518d8bb44"
      },
      "execution_count": null,
      "outputs": [
        {
          "output_type": "execute_result",
          "data": {
            "text/plain": [
              "{0: [0], 1: [1, 2], 2: [3, 4, 5], 3: [6, 7, 8, 9], 4: [10, 11, 12, 13, 14]}"
            ]
          },
          "metadata": {},
          "execution_count": 2
        }
      ]
    },
    {
      "cell_type": "code",
      "source": [
        "(5*6)//2"
      ],
      "metadata": {
        "id": "AF3MBiuMDcNW",
        "outputId": "13a5891d-f3d4-4724-cf9e-06773560547f",
        "colab": {
          "base_uri": "https://localhost:8080/"
        }
      },
      "execution_count": null,
      "outputs": [
        {
          "output_type": "execute_result",
          "data": {
            "text/plain": [
              "15"
            ]
          },
          "metadata": {},
          "execution_count": 6
        }
      ]
    },
    {
      "cell_type": "code",
      "source": [
        "import matplotlib.pyplot as plt\n",
        "import networkx as nx\n",
        "\n",
        "# Parámetros iniciales\n",
        "\n",
        "# Construir el árbol de precios S\n",
        "levels = {}  # Diccionario para almacenar los nodos por nivel\n",
        "# El diccionario se asigna  {entrada : valor}\n",
        "# for t in range(T+1):\n",
        "#     levels[t] = [s for s in range(t,t+1)]\n",
        "levels[0] = [S[0]]\n",
        "levels[1] = S[1:3]\n",
        "levels[2] = S[3:6]\n",
        "levels[3] = S[6:10]\n",
        "\n",
        "# Calcular q_n y X_n para cada nodo\n",
        "X = {}  # Diccionario para almacenar los valores X\n",
        "q = {}  # Diccionario para almacenar los valores q\n",
        "\n",
        "print(levels)\n",
        "\n",
        "for idx, S_T in enumerate(levels[T]): #iteración de subíndices y precios de cada rama\n",
        "    X[(T, idx)] = max(S_T - K, 0)\n",
        "\n",
        "X\n",
        "\n",
        "# Calcular X para nodos anteriores a T\n",
        "for t in reversed(range(T)): # iteramos ramas o \"levels\"\n",
        "    for idx, S_n in enumerate(levels[t]): #iteración de subíndices y precios de cada rama\n",
        "        # print(\"Rama\")\n",
        "        # print(t)\n",
        "        # print(\"Rama precio\")\n",
        "        # print(t+1)\n",
        "        S_u = levels[t+1][idx+1]\n",
        "        # print(\"Prcio S_u\")\n",
        "        # print(S_u)\n",
        "        S_d = levels[t+1][idx]\n",
        "        # print(\"Prcio S_d\")\n",
        "        # print(S_d)\n",
        "        q[(t, idx)] = (S_n - S_d) / (S_u - S_d)\n",
        "        # print(\"q\")\n",
        "        # print(q)\n",
        "        X[(t, idx)] = q[(t, idx)] * X[(t+1, idx+1)] + (1 - q[(t, idx)]) * X[(t+1, idx)]\n",
        "        # print(X)"
      ],
      "metadata": {
        "colab": {
          "base_uri": "https://localhost:8080/"
        },
        "id": "BIW-uKUMBnx-",
        "outputId": "a0795aab-3c42-49d0-fd15-ecc0ea8f3583"
      },
      "execution_count": null,
      "outputs": [
        {
          "output_type": "stream",
          "name": "stdout",
          "text": [
            "{0: [100], 1: [80, 120], 2: [60, 100, 140], 3: [40, 80, 120, 160]}\n"
          ]
        }
      ]
    },
    {
      "cell_type": "markdown",
      "source": [],
      "metadata": {
        "id": "TiJP9LCGD46i"
      }
    },
    {
      "cell_type": "code",
      "source": [
        "import matplotlib.pyplot as plt\n",
        "import networkx as nx\n",
        "\n",
        "# Parámetros iniciales\n",
        "\n",
        "# Construir el árbol de precios S\n",
        "levels = {}  # Diccionario para almacenar los nodos por nivel\n",
        "# El diccionario se asigna  {entrada : valor}\n",
        "# for t in range(T+1):\n",
        "#     levels[t] = [s for s in range(t,t+1)]\n",
        "levels[0] = [S[0]]\n",
        "levels[1] = S[1:3]\n",
        "levels[2] = S[3:6]\n",
        "levels[3] = S[6:10]\n",
        "\n",
        "\n",
        "\n",
        "# Calcular q_n y X_n para cada nodo\n",
        "X = {}  # Diccionario para almacenar los valores X\n",
        "q = {}  # Diccionario para almacenar los valores q\n",
        "\n",
        "# Inicializar los valores de X en el tiempo T\n",
        "for idx, S_T in enumerate(levels[T]): #iteración de subíndices y precios de cada rama\n",
        "    X[(T, idx)] = max(S_T - K, 0)\n",
        "\n",
        "# Calcular X para nodos anteriores a T\n",
        "for t in reversed(range(T)): # iteramos ramas o \"levels\"\n",
        "    for idx, S_n in enumerate(levels[t]): #iteración de subíndices y precios de cada rama\n",
        "        S_u = levels[t+1][idx+1]\n",
        "        S_d = levels[t+1][idx]\n",
        "        q[(t, idx)] = (S_n - S_d) / (S_u - S_d)\n",
        "        X[(t, idx)] = q[(t, idx)] * X[(t+1, idx+1)] + (1 - q[(t, idx)]) * X[(t+1, idx)]\n",
        "\n",
        "# Función para graficar el árbol\n",
        "def plot_tree(levels, X):\n",
        "    G = nx.Graph()\n",
        "    pos = {}\n",
        "    for t in levels:\n",
        "        for idx, S in enumerate(levels[t]):\n",
        "            node_label = (t, idx)\n",
        "            G.add_node(node_label)\n",
        "            pos[node_label] = (2*t, -2*idx + t)\n",
        "            if t > 0:\n",
        "                parent_label = (t-1, idx) if idx < len(levels[t-1]) else (t-1, idx-1)\n",
        "                G.add_edge(parent_label, node_label)\n",
        "\n",
        "    labels = {node: f\"S={S:.0f}\\nX={X[node]:.2f}\" for node, S in zip(pos.keys(), sum(levels.values(), []))}\n",
        "\n",
        "    nx.draw(G, pos, labels=labels, with_labels=True, node_size=2000, node_color='lightblue', font_size=8, arrows=False)\n",
        "    plt.show()\n",
        "\n",
        "plot_tree(levels, X)\n"
      ],
      "metadata": {
        "colab": {
          "base_uri": "https://localhost:8080/",
          "height": 516
        },
        "id": "Nbfha3E2CSeY",
        "outputId": "f69caa46-2179-44a6-a5fc-d86ee6f9eaef"
      },
      "execution_count": null,
      "outputs": [
        {
          "output_type": "display_data",
          "data": {
            "text/plain": [
              "<Figure size 640x480 with 1 Axes>"
            ],
            "image/png": "[encoded data removed]"
          },
          "metadata": {}
        }
      ]
    },
    {
      "cell_type": "markdown",
      "source": [
        "##Ejercicio:\n",
        "1. Agrega un proceso de estructura de $S$ que, con base en el total de precios en el vector, calcule lo siguiente: \\\\\n",
        "a) número de ramas, \\\\\n",
        "b) mande mensaje si está completo el árbol con base en las ramas, \\\\\n",
        "c) crea una lista comprehensiva que mapee $S$ a \"levels\" correctamente su posición del árbol, \\\\\n",
        "d) Asigna los valores del árbol en una matriz de $T\\times T$, tal que se cumpla lo siguiente:\n",
        "\\begin{array}{c|cccc}\n",
        "S_d / S_u & 0 & u & uu & uuu \\\\\n",
        "\\hline\n",
        "0 & S_0 & S_u & S_{uu} & S_{uuu} \\\\\n",
        "d & S_d & S_{ud} & S_{udu} & 0 \\\\\n",
        "dd & S_{dd} & S_{ddu} & 0 & 0 \\\\\n",
        "ddd & S_{ddd} & 0 & 0 & 0 \\\\\n",
        "\\end{array}\n",
        "Esto generalizado a varias ramas, es decir, que el árbol se pase a una matriz diagonal. \\\n",
        "e) Grafica el árbol de $q$ \\\n",
        "f) Grafica el árbol de cobertura $\\alpha$ y $\\beta$\n"
      ],
      "metadata": {
        "id": "Lspk13dHzVOf"
      }
    },
    {
      "cell_type": "code",
      "source": [
        "# c)\n",
        "\n",
        "S=[100, 80, 120, 60, 100, 140, 40, 80, 120, 160]\n",
        "levels[0] = [S[0]]\n",
        "levels[1] = S[1:3]\n",
        "levels[2] = S[3:6]\n",
        "levels[3] = S[6:10]\n",
        "print(levels)\n",
        "#sucesión:\n",
        "# nivel 0 subíndice es 0\n",
        "# nivel 1 subíndice es 1:3, 1, 3\n",
        "# nivel 2 subíndice es 3:6, 3,6\n",
        "# nivel 3 subíndice es 6:10, 6,10\n",
        "\n",
        "#Cómo encontrar una sucesión 0,1,3,6\n",
        "#Cómo encontrar una sucesión 0,3,6,10\n",
        "\n",
        "n=4\n",
        "# S = list(range((n*(n+1))//2))\n",
        "# print(S)\n",
        "levels = {i : S[(i*(i+1))//2:((i+1)*(i+2))//2] for i in range(n) }\n",
        "\n",
        "levels\n",
        "# for k in levels:\n",
        "#   levels[k]= [S[i:j] for i,j in zip(suc1, suc2)]\n"
      ],
      "metadata": {
        "id": "H0hWWx5TY9J2",
        "colab": {
          "base_uri": "https://localhost:8080/"
        },
        "outputId": "41a69c09-6928-444d-83a3-e9fee4b143e7"
      },
      "execution_count": null,
      "outputs": [
        {
          "output_type": "stream",
          "name": "stdout",
          "text": [
            "{0: [100], 1: [80, 120], 2: [60, 100, 140], 3: [40, 80, 120, 160]}\n"
          ]
        },
        {
          "output_type": "execute_result",
          "data": {
            "text/plain": [
              "{0: [100], 1: [80, 120], 2: [60, 100, 140], 3: [40, 80, 120, 160]}"
            ]
          },
          "metadata": {},
          "execution_count": 32
        }
      ]
    },
    {
      "cell_type": "code",
      "source": [
        "[(i*(i+1))//2 for i in range(4)] ## primera sucesión\n",
        "[((i+1)*(i+2))/2 for i in range(4)] ## segunda sucesión"
      ],
      "metadata": {
        "colab": {
          "base_uri": "https://localhost:8080/"
        },
        "id": "V0PVLUZ1SxOO",
        "outputId": "8c7b7684-1649-487c-8739-6599c75bb5ae"
      },
      "execution_count": null,
      "outputs": [
        {
          "output_type": "execute_result",
          "data": {
            "text/plain": [
              "[1.0, 3.0, 6.0, 10.0]"
            ]
          },
          "metadata": {},
          "execution_count": 26
        }
      ]
    },
    {
      "cell_type": "markdown",
      "source": [
        "# Binomial Multiperiodo Multiplicativo"
      ],
      "metadata": {
        "id": "-Hnh3D9_WkAW"
      }
    },
    {
      "cell_type": "markdown",
      "source": [
        "Ejemplo:"
      ],
      "metadata": {
        "id": "OtU4S0_uWqPO"
      }
    },
    {
      "cell_type": "code",
      "source": [
        "import matplotlib.pyplot as plt\n",
        "import networkx as nx\n",
        "\n",
        "# Parámetros iniciales\n",
        "S0 = 100  # Precio inicial\n",
        "K = 100   # Precio de ejercicio\n",
        "T = 4     # Periodos\n",
        "u = 1.2   # Factor de subida\n",
        "d = 0.8   # Factor de bajada\n",
        "cop = 0 # call o put\n",
        "\n",
        "# Construir el árbol de precios S\n",
        "levels = {}  # Diccionario para almacenar los nodos por nivel\n",
        "for t in range(T+1):\n",
        "    levels[t] = [S0 * (u ** ups) * (d ** (t - ups)) for ups in reversed(range(t + 1))]\n",
        "\n",
        "# Calcular q_n y X_n para cada nodo\n",
        "X = {}  # Diccionario para almacenar los valores X\n",
        "q = {}  # Diccionario para almacenar los valores q\n",
        "\n",
        "# Inicializar los valores de X en el tiempo T\n",
        "for idx, S_T in enumerate(levels[T]):\n",
        "    X[(T, idx)] = max(S_T - K, 0)\n",
        "\n",
        "# Calcular X para nodos anteriores a T\n",
        "for t in reversed(range(T)):\n",
        "    for idx, S_n in enumerate(levels[t]):\n",
        "        S_u = levels[t+1][idx+1]\n",
        "        S_d = levels[t+1][idx]\n",
        "        q[(t, idx)] = (S_n - S_d) / (S_u - S_d)\n",
        "        X[(t, idx)] = q[(t, idx)] * X[(t+1, idx+1)] + (1 - q[(t, idx)]) * X[(t+1, idx)]\n",
        "\n",
        "# Función para graficar el árbol\n",
        "def plot_tree(levels, X):\n",
        "    G = nx.Graph()\n",
        "    pos = {}\n",
        "    for t in levels:\n",
        "        for idx, S in enumerate(levels[t]):\n",
        "            node_label = (t, idx)\n",
        "            G.add_node(node_label)\n",
        "            pos[node_label] = (2*t, -2*idx + t)\n",
        "            if t > 0:\n",
        "                parent_label = (t-1, idx) if idx < len(levels[t-1]) else (t-1, idx-1)\n",
        "                G.add_edge(parent_label, node_label)\n",
        "\n",
        "    labels = {node: f\"S={S:.0f}\\nX={X[node]:.2f}\" for node, S in zip(pos.keys(), sum(levels.values(), []))}\n",
        "\n",
        "    nx.draw(G, pos, labels=labels, with_labels=True, node_size=2000, node_color='lightblue', font_size=8, arrows=False)\n",
        "    plt.show()\n",
        "\n",
        "plot_tree(levels, X)\n"
      ],
      "metadata": {
        "colab": {
          "base_uri": "https://localhost:8080/",
          "height": 516
        },
        "id": "to4aNaIA95Ds",
        "outputId": "243e5032-ea3e-4d8a-b4fa-cb984cde6ce4"
      },
      "execution_count": null,
      "outputs": [
        {
          "output_type": "display_data",
          "data": {
            "text/plain": [
              "<Figure size 640x480 with 1 Axes>"
            ],
            "image/png": "[encoded data removed]"
          },
          "metadata": {}
        }
      ]
    },
    {
      "cell_type": "markdown",
      "source": [
        "Ejercicio 2.\n",
        "\n",
        "Crea una función donde, con base en los insumos necesarios, calcule la valuación de una opción europea multiplicativa, haz los ajustes necesarios para que con los parámetros se especifique si es call o put, agrega la tasa de interés.\n"
      ],
      "metadata": {
        "id": "nwJSHx9tvzmv"
      }
    },
    {
      "cell_type": "code",
      "source": [],
      "metadata": {
        "id": "gQZcuadHwKH5"
      },
      "execution_count": null,
      "outputs": []
    },
    {
      "cell_type": "markdown",
      "source": [
        "Ejercicio 3.\n",
        "Considere un activo que no paga dividendos cuyo precio es restringido a un árbol binomial multiplicativo de dos períodos con $u=3$ y $d=1/2$. Supón que $S(0) = 4$ y que $\\exp(r\\delta) = 2$. Considera una put europea con $K=3$.\n",
        "\n",
        "1. Encuentra el valor de la opción trabajando el árbol hacia atrás (Grafícala, tanto en árbol como en tabla) \\\\\n",
        "2. ¿Cuál es el portafolio que replica al tiempo $t = 0$?\n",
        "3. Supón que en el primer periodo de tiempo el subyacente sube a 12. ¿Como debiése ser cambiado el portafolio que replica? (Muéstra todo el árbol de réplica)"
      ],
      "metadata": {
        "id": "nLVno8cawKos"
      }
    },
    {
      "cell_type": "code",
      "source": [
        "#\n",
        "\n",
        "# Parámetros iniciales\n",
        "S0 = 12  # Precio inicial\n",
        "K = 3   # Precio de ejercicio\n",
        "T = 2     # Periodos\n",
        "B = 2\n",
        "u = 3   # Factor de subida\n",
        "d = 1/2   # Factor de bajada\n",
        "cop = 1 # call (0) o put (1)\n",
        "\n",
        "# Construir el árbol de precios S\n",
        "levels = {}  # Diccionario para almacenar los nodos por nivel\n",
        "for t in range(T+1):\n",
        "    levels[t] = [S0 * (u ** ups) * (d ** (t - ups)) for ups in range(t + 1)]\n",
        "\n",
        "# Calcular q_n y X_n para cada nodo\n",
        "X = {}  # Diccionario para almacenar los valores X\n",
        "q = {}  # Diccionario para almacenar los valores q\n",
        "a = {}\n",
        "b = {}\n",
        "\n",
        "for idx, S_T in enumerate(levels[T]):\n",
        "    X[(T, idx)] = max((S_T - K)*(-1)**(cop), 0) ##parametrizando el payoff para que sea call o put\n",
        "\n",
        "# Calcular X para nodos anteriores a T\n",
        "for t in reversed(range(T)):\n",
        "    for idx, S_n in enumerate(levels[t]):\n",
        "        S_u = levels[t+1][idx+1]\n",
        "        S_d = levels[t+1][idx]\n",
        "        q[(t, idx)] = (S_n*(B) - S_d) / (S_u - S_d)\n",
        "        X[(t, idx)] = (q[(t, idx)] * X[(t+1, idx+1)] + (1 - q[(t, idx)]) * X[(t+1, idx)])*1/B\n",
        "        a[(t, idx)] = (X[(t+1, idx+1)] - X[(t+1, idx)]) / (S_u - S_d)\n",
        "        b[(t, idx)] = (X[(t+1, idx+1)] - ((X[(t+1, idx+1)] - X[(t+1, idx)])*S_u) / (S_u - S_d))*(1/B)\n",
        "\n",
        "print(levels)\n",
        "print(q)\n",
        "print(X)\n",
        "print(a)\n",
        "print(b)"
      ],
      "metadata": {
        "id": "KVxeoY5PCIxQ",
        "colab": {
          "base_uri": "https://localhost:8080/"
        },
        "outputId": "9a2d91b8-1bf9-4685-fba4-a61078b1d83d"
      },
      "execution_count": null,
      "outputs": [
        {
          "output_type": "stream",
          "name": "stdout",
          "text": [
            "{0: [12.0], 1: [6.0, 36.0], 2: [3.0, 18.0, 108.0]}\n",
            "{(1, 0): 0.6, (1, 1): 0.6, (0, 0): 0.6}\n",
            "{(2, 0): -0.0, (2, 1): 0, (2, 2): 0, (1, 0): 0.0, (1, 1): 0.0, (0, 0): 0.0}\n",
            "{(1, 0): 0.0, (1, 1): 0.0, (0, 0): 0.0}\n",
            "{(1, 0): 0.0, (1, 1): 0.0, (0, 0): 0.0}\n"
          ]
        }
      ]
    },
    {
      "cell_type": "markdown",
      "source": [
        "2. Plantea una evolución del precio, tal que el máximo sea 160 y el mínimo 40 para que con $T=100$ hagas una valoración. ¿Cuál es la diferencia con la valoración del ejemplo? Empezando con $S_0=100$"
      ],
      "metadata": {
        "id": "nV9-orCJYsCG"
      }
    },
    {
      "cell_type": "code",
      "source": [],
      "metadata": {
        "id": "pLzYRmGFHIQW"
      },
      "execution_count": null,
      "outputs": []
    },
    {
      "cell_type": "markdown",
      "source": [
        "#Americana"
      ],
      "metadata": {
        "id": "9I0adMPMkN6u"
      }
    },
    {
      "cell_type": "code",
      "source": [
        "import matplotlib.pyplot as plt\n",
        "import networkx as nx\n",
        "# Parámetros iniciales\n",
        "S0 = 4  # Precio inicial\n",
        "K = 5   # Precio de ejercicio\n",
        "T = 2     # Periodos\n",
        "r = 1/5\n",
        "B = 1+r\n",
        "u = 2   # Factor de subida\n",
        "d = 1/2   # Factor de bajada\n",
        "cop = 1 # call (0) o put (1)\n",
        "\n",
        "# Construir el árbol de precios S\n",
        "levels = {}  # Diccionario para almacenar los nodos por nivel\n",
        "for t in range(T+1):\n",
        "    levels[t] = [S0 * (u ** ups) * (d ** (t - ups)) for ups in reversed(range(t + 1))]\n",
        "\n",
        "# Calcular q_n y X_n para cada nodo\n",
        "Y = {}  # Diccionario para almacenar los valores Y\n",
        "W = {}  # Diccionario para almacenar los valores W\n",
        "Z = {}  # Diccionario para almacenar los valores W\n",
        "a = {}\n",
        "b = {}\n",
        "\n",
        "q = (1+r-d)/(u-d)\n",
        "\n",
        "for idx, S_T in enumerate(levels[T]):\n",
        "    Y[(T, idx)] = max((S_T - K)*(-1)**(cop), 0) ##parametrizando el payoff para que sea call o put\n",
        "    Z[(T, idx)] = max((S_T - K)*(-1)**(cop), 0)\n",
        "    W[(T, idx)] = max((S_T - K)*(-1)**(cop), 0)\n",
        "# Calcular X para nodos anteriores a T\n",
        "for t in reversed(range(T)):\n",
        "    for idx, S_n in enumerate(levels[t]):\n",
        "        S_u = levels[t+1][idx+1]\n",
        "        S_d = levels[t+1][idx]\n",
        "        Y[(t, idx)] = max((S_n - K)*(-1)**(cop), 0)\n",
        "        W[(t, idx)] = (q * Z[(t+1, idx+1)] + (1 - q) * Z[(t+1, idx)])*1/B\n",
        "        Z[(t, idx)] = max(Y[(t, idx)],W[(t, idx)])\n",
        "        a[(t, idx)] = (Z[(t+1, idx+1)] - Z[(t+1, idx)]) / ((u-d)*S_n) #(S_u - S_d)\n",
        "        b[(t, idx)] = (Z[(t+1, idx+1)] - ((Z[(t+1, idx+1)] - Z[(t+1, idx)])*S_u) / (S_u - S_d))*(1/B)\n",
        "\n",
        "print(levels)\n",
        "print(q)\n",
        "print(Y)\n",
        "print(W)\n",
        "print(Z)\n",
        "print(a)\n",
        "print(b)\n",
        "\n",
        "\n",
        "# Función para graficar el árbol\n",
        "def plot_tree(levels, X,Y,Z):\n",
        "    G = nx.Graph()\n",
        "    pos = {}\n",
        "    for t in levels:\n",
        "        for idx, S in enumerate(levels[t]):\n",
        "            node_label = (t, idx)\n",
        "            G.add_node(node_label)\n",
        "            pos[node_label] = (2*t, -2*idx + t)\n",
        "            if t > 0:\n",
        "                parent_label = (t-1, idx) if idx < len(levels[t-1]) else (t-1, idx-1)\n",
        "                G.add_edge(parent_label, node_label)\n",
        "\n",
        "    labels = {node: f\"S={S:.0f}\\nY={X[node]:.2f}\\nW={Y[node]:.2f}\\nZ={Z[node]:.2f}\" for node, S in zip(pos.keys(), sum(levels.values(), []))}\n",
        "\n",
        "    nx.draw(G, pos, labels=labels, with_labels=True, node_size=2000, node_color='lightblue', font_size=8, arrows=False)\n",
        "    plt.show()\n",
        "\n",
        "plot_tree(levels, Y,W,Z)"
      ],
      "metadata": {
        "colab": {
          "base_uri": "https://localhost:8080/",
          "height": 637
        },
        "id": "RyffMec5kPrM",
        "outputId": "949a2536-e864-495d-9dd2-897252ff01be"
      },
      "execution_count": null,
      "outputs": [
        {
          "output_type": "stream",
          "name": "stdout",
          "text": [
            "{0: [4.0], 1: [8.0, 2.0], 2: [16.0, 4.0, 1.0]}\n",
            "0.4666666666666666\n",
            "{(2, 0): 0, (2, 1): 1.0, (2, 2): 4.0, (1, 0): 0, (1, 1): 3.0, (0, 0): 1.0}\n",
            "{(2, 0): 0, (2, 1): 1.0, (2, 2): 4.0, (1, 0): 0.38888888888888884, (1, 1): 2.0, (0, 0): 1.3395061728395061}\n",
            "{(2, 0): 0, (2, 1): 1.0, (2, 2): 4.0, (1, 0): 0.38888888888888884, (1, 1): 3.0, (0, 0): 1.3395061728395061}\n",
            "{(1, 0): 0.08333333333333333, (1, 1): 1.0, (0, 0): 0.4351851851851852}\n",
            "{(1, 0): 1.1111111111111112, (1, 1): 4.166666666666667, (0, 0): 3.2253086419753085}\n"
          ]
        },
        {
          "output_type": "display_data",
          "data": {
            "text/plain": [
              "<Figure size 640x480 with 1 Axes>"
            ],
            "image/png": "[encoded data removed]"
          },
          "metadata": {}
        }
      ]
    },
    {
      "cell_type": "markdown",
      "source": [
        "## Función americana binomial"
      ],
      "metadata": {
        "id": "iP9XPnCGTJnV"
      }
    },
    {
      "cell_type": "code",
      "source": [
        "#función americana\n",
        "import matplotlib.pyplot as plt\n",
        "import networkx as nx\n",
        "# Parámetros iniciales\n",
        "S0 = 4  # Precio inicial\n",
        "K = 5   # Precio de ejercicio\n",
        "T = 2     # Periodos\n",
        "r = 1/5\n",
        "B = 1+r\n",
        "u = 2   # Factor de subida\n",
        "d = 1/2   # Factor de bajada\n",
        "cop = 1 # call (0) o put (1)\n",
        "\n",
        "# Construir el árbol de precios S\n",
        "def opc_ame(S0, K, T, r, B, u, d, cop):\n",
        "  levels = {}  # Diccionario para almacenar los nodos por nivel\n",
        "  for t in range(T+1):\n",
        "      levels[t] = [S0 * (u ** ups) * (d ** (t - ups)) for ups in reversed(range(t + 1))]\n",
        "\n",
        "  # Calcular q_n y X_n para cada nodo\n",
        "  Y = {}  # Diccionario para almacenar los valores Y\n",
        "  W = {}  # Diccionario para almacenar los valores W\n",
        "  Z = {}  # Diccionario para almacenar los valores W\n",
        "  a = {}\n",
        "  b = {}\n",
        "\n",
        "  q = (1+r-d)/(u-d)\n",
        "\n",
        "  for idx, S_T in enumerate(levels[T]):\n",
        "      Y[(T, idx)] = max((S_T - K)*(-1)**(cop), 0) ##parametrizando el payoff para que sea call o put\n",
        "      Z[(T, idx)] = max((S_T - K)*(-1)**(cop), 0)\n",
        "      W[(T, idx)] = max((S_T - K)*(-1)**(cop), 0)\n",
        "  # Calcular X para nodos anteriores a T\n",
        "  for t in reversed(range(T)):\n",
        "      for idx, S_n in enumerate(levels[t]):\n",
        "          S_u = levels[t+1][idx+1]\n",
        "          S_d = levels[t+1][idx]\n",
        "          Y[(t, idx)] = max((S_n - K)*(-1)**(cop), 0)\n",
        "          W[(t, idx)] = (q * Z[(t+1, idx+1)] + (1 - q) * Z[(t+1, idx)])*1/B\n",
        "          Z[(t, idx)] = max(Y[(t, idx)],W[(t, idx)])\n",
        "          a[(t, idx)] = (Z[(t+1, idx+1)] - Z[(t+1, idx)]) / ((u-d)*S_n) #(S_u - S_d)\n",
        "          b[(t, idx)] = (Z[(t+1, idx+1)] - ((Z[(t+1, idx+1)] - Z[(t+1, idx)])*S_u) / (S_u - S_d))*(1/B)\n",
        "\n",
        "  print(levels)\n",
        "  print(q)\n",
        "  print(Y)\n",
        "  print(W)\n",
        "  print(Z)\n",
        "  print(a)\n",
        "  print(b)\n",
        "\n",
        "\n",
        "  # Función para graficar el árbol\n",
        "  def plot_tree(levels, X,Y,Z):\n",
        "      G = nx.Graph()\n",
        "      pos = {}\n",
        "      for t in levels:\n",
        "          for idx, S in enumerate(levels[t]):\n",
        "              node_label = (t, idx)\n",
        "              G.add_node(node_label)\n",
        "              pos[node_label] = (2*t, -2*idx + t)\n",
        "              if t > 0:\n",
        "                  parent_label = (t-1, idx) if idx < len(levels[t-1]) else (t-1, idx-1)\n",
        "                  G.add_edge(parent_label, node_label)\n",
        "\n",
        "      labels = {node: f\"S={S:.0f}\\nY={X[node]:.2f}\\nW={Y[node]:.2f}\\nZ={Z[node]:.2f}\" for node, S in zip(pos.keys(), sum(levels.values(), []))}\n",
        "\n",
        "      nx.draw(G, pos, labels=labels, with_labels=True, node_size=2000, node_color='lightblue', font_size=8, arrows=False)\n",
        "      plt.show()\n",
        "\n",
        "  plot_tree(levels, Y,W,Z )\n",
        "  return q, Y, W, Z, a, b, Z[(0,0)]\n",
        "\n",
        "\n",
        "\n",
        "S0 = 4  # Precio inicial\n",
        "K = 5   # Precio de ejercicio\n",
        "T = 2     # Periodos\n",
        "r = 1/5\n",
        "B = 1+r\n",
        "u = 2   # Factor de subida\n",
        "d = 1/2   # Factor de bajada\n",
        "cop = 1 # call (0) o put (1)\n",
        "\n",
        "q, Y, W, Z, a, b, valopc = opc_ame(S0, K, T, r, B, u, d, cop)\n",
        "print(\"valor opción:\", valopc)"
      ],
      "metadata": {
        "colab": {
          "base_uri": "https://localhost:8080/",
          "height": 655
        },
        "id": "lP2x39y4NWN7",
        "outputId": "a8cc7c84-442a-4dda-939d-cf2725a38f6e"
      },
      "execution_count": 28,
      "outputs": [
        {
          "output_type": "stream",
          "name": "stdout",
          "text": [
            "{0: [4.0], 1: [8.0, 2.0], 2: [16.0, 4.0, 1.0]}\n",
            "0.4666666666666666\n",
            "{(2, 0): 0, (2, 1): 1.0, (2, 2): 4.0, (1, 0): 0, (1, 1): 3.0, (0, 0): 1.0}\n",
            "{(2, 0): 0, (2, 1): 1.0, (2, 2): 4.0, (1, 0): 0.38888888888888884, (1, 1): 2.0, (0, 0): 1.3395061728395061}\n",
            "{(2, 0): 0, (2, 1): 1.0, (2, 2): 4.0, (1, 0): 0.38888888888888884, (1, 1): 3.0, (0, 0): 1.3395061728395061}\n",
            "{(1, 0): 0.08333333333333333, (1, 1): 1.0, (0, 0): 0.4351851851851852}\n",
            "{(1, 0): 1.1111111111111112, (1, 1): 4.166666666666667, (0, 0): 3.2253086419753085}\n"
          ]
        },
        {
          "output_type": "display_data",
          "data": {
            "text/plain": [
              "<Figure size 640x480 with 1 Axes>"
            ],
            "image/png": "[encoded data removed]"
          },
          "metadata": {}
        },
        {
          "output_type": "stream",
          "name": "stdout",
          "text": [
            "valor opción: 1.3395061728395061\n"
          ]
        }
      ]
    },
    {
      "cell_type": "markdown",
      "source": [
        "## Función europea binomial"
      ],
      "metadata": {
        "id": "hFJwtH7YTMlM"
      }
    },
    {
      "cell_type": "code",
      "source": [
        "import matplotlib.pyplot as plt\n",
        "import networkx as nx\n",
        "# Parámetros iniciales\n",
        "# Construir el árbol de precios S\n",
        "def opc_eur(S0, K, T, r, B, u, d, cop):\n",
        "  levels = {}  # Diccionario para almacenar los nodos por nivel\n",
        "  for t in range(T+1):\n",
        "      levels[t] = [S0 * (u ** ups) * (d ** (t - ups)) for ups in reversed(range(t + 1))]\n",
        "\n",
        "  # Calcular q_n y X_n para cada nodo\n",
        "\n",
        "  X = {}  # Diccionario para almacenar los valores W\n",
        "  a = {}\n",
        "  b = {}\n",
        "\n",
        "  q = (1+r-d)/(u-d)\n",
        "\n",
        "  for idx, S_T in enumerate(levels[T]):\n",
        "      X[(T, idx)] = max((S_T - K)*(-1)**(cop), 0)\n",
        "  # Calcular X para nodos anteriores a T\n",
        "  for t in reversed(range(T)):\n",
        "      for idx, S_n in enumerate(levels[t]):\n",
        "          S_u = levels[t+1][idx+1]\n",
        "          S_d = levels[t+1][idx]\n",
        "          X[(t, idx)] = (q * X[(t+1, idx+1)] + (1 - q) * X[(t+1, idx)])*1/B\n",
        "          a[(t, idx)] = (X[(t+1, idx+1)] - X[(t+1, idx)]) / ((u-d)*S_n) #(S_u - S_d)\n",
        "          b[(t, idx)] = (X[(t+1, idx+1)] - ((X[(t+1, idx+1)] - X[(t+1, idx)])*S_u) / (S_u - S_d))*(1/B)\n",
        "\n",
        "  print(levels)\n",
        "  print(q)\n",
        "  print(Y)\n",
        "  print(W)\n",
        "  print(Z)\n",
        "  print(a)\n",
        "  print(b)\n",
        "\n",
        "\n",
        "  # Función para graficar el árbol\n",
        "  def plot_tree(levels, X):\n",
        "      G = nx.Graph()\n",
        "      pos = {}\n",
        "      for t in levels:\n",
        "          for idx, S in enumerate(levels[t]):\n",
        "              node_label = (t, idx)\n",
        "              G.add_node(node_label)\n",
        "              pos[node_label] = (2*t, -2*idx + t)\n",
        "              if t > 0:\n",
        "                  parent_label = (t-1, idx) if idx < len(levels[t-1]) else (t-1, idx-1)\n",
        "                  G.add_edge(parent_label, node_label)\n",
        "\n",
        "      labels = {node: f\"S={S:.0f}\\nX={X[node]:.2f}\" for node, S in zip(pos.keys(), sum(levels.values(), []))}\n",
        "\n",
        "      nx.draw(G, pos, labels=labels, with_labels=True, node_size=2000, node_color='lightblue', font_size=8, arrows=False)\n",
        "      plt.show()\n",
        "\n",
        "  plot_tree(levels, X )\n",
        "  return q, X, a, b, X[(0,0)]\n",
        "\n",
        "\n",
        "\n",
        "S0 = 4  # Precio inicial\n",
        "K = 5   # Precio de ejercicio\n",
        "T = 2     # Periodos\n",
        "r = 1/5\n",
        "B = 1+r\n",
        "u = 2   # Factor de subida\n",
        "d = 1/2   # Factor de bajada\n",
        "cop = 1 # call (0) o put (1)\n",
        "\n",
        "q, X, a, b, valopc = opc_eur(S0, K, T, r, B, u, d, cop)\n",
        "print(\"valor opción:\", valopc)"
      ],
      "metadata": {
        "colab": {
          "base_uri": "https://localhost:8080/",
          "height": 655
        },
        "id": "pFgRDx5pOeSa",
        "outputId": "6cfa1517-7ac3-44af-c98c-b5619835e635"
      },
      "execution_count": 29,
      "outputs": [
        {
          "output_type": "stream",
          "name": "stdout",
          "text": [
            "{0: [4.0], 1: [8.0, 2.0], 2: [16.0, 4.0, 1.0]}\n",
            "0.4666666666666666\n",
            "{(2, 0): 0, (2, 1): 1.0, (2, 2): 4.0, (1, 0): 0, (1, 1): 3.0, (0, 0): 1.0}\n",
            "{(2, 0): 0, (2, 1): 1.0, (2, 2): 4.0, (1, 0): 0.38888888888888884, (1, 1): 2.0, (0, 0): 1.3395061728395061}\n",
            "{(2, 0): 0, (2, 1): 1.0, (2, 2): 4.0, (1, 0): 0.38888888888888884, (1, 1): 3.0, (0, 0): 1.3395061728395061}\n",
            "{(1, 0): 0.08333333333333333, (1, 1): 1.0, (0, 0): 0.26851851851851855}\n",
            "{(1, 0): 1.1111111111111112, (1, 1): 4.166666666666667, (0, 0): 2.114197530864198}\n"
          ]
        },
        {
          "output_type": "display_data",
          "data": {
            "text/plain": [
              "<Figure size 640x480 with 1 Axes>"
            ],
            "image/png": "[encoded data removed]"
          },
          "metadata": {}
        },
        {
          "output_type": "stream",
          "name": "stdout",
          "text": [
            "valor opción: 0.9506172839506172\n"
          ]
        }
      ]
    }
  ]
}